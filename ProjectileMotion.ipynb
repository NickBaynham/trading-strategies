{
 "cells": [
  {
   "cell_type": "code",
   "execution_count": 1,
   "metadata": {},
   "outputs": [],
   "source": [
    "\"\"\"\n",
    "    Generate equally spaced floating pint numbers between two given values\n",
    "\"\"\"\n",
    "\n",
    "def frange(start, final, increment):\n",
    "    numbers = []\n",
    "    while start < final:\n",
    "        numbers.append(start)\n",
    "        start = start + increment\n",
    "    return numbers\n"
   ]
  },
  {
   "cell_type": "code",
   "execution_count": 11,
   "metadata": {},
   "outputs": [
    {
     "name": "stdin",
     "output_type": "stream",
     "text": [
      "Enter the inital velocity (m/s):  17.2\n",
      "Enter the angle of projection (degrees):  45.1\n"
     ]
    },
    {
     "data": {
      "image/png": "[encoded data removed]",
      "text/plain": [
       "<Figure size 432x288 with 1 Axes>"
      ]
     },
     "metadata": {
      "needs_background": "light"
     },
     "output_type": "display_data"
    }
   ],
   "source": [
    "\"\"\"\n",
    "    Draw the trajectory of a body in projectile motion\n",
    "\"\"\"\n",
    "\n",
    "from matplotlib import pyplot as plt\n",
    "import math\n",
    "\n",
    "def draw_graph(x, y):\n",
    "    plt.plot(x, y)\n",
    "    plt.xlabel('x-coordinate')\n",
    "    plt.ylabel('y-coordinate')\n",
    "    plt.title('Projectile motion of a ball')\n",
    "    \n",
    "def frange(start, final, interval):\n",
    "    numbers = []\n",
    "    while start < final:\n",
    "        numbers.append(start)\n",
    "        start = start + interval\n",
    "    return numbers\n",
    "\n",
    "def draw_trajectory(u, theta):\n",
    "    theta = math.radians(theta)\n",
    "    g = 9.8\n",
    "    \n",
    "    # Time of flight\n",
    "    t_flight = 2 * u * math.sin(theta) / g\n",
    "    \n",
    "    # Find time intervals\n",
    "    intervals = frange(0, t_flight, 0.001)\n",
    "    \n",
    "    # List of x and y coordinates\n",
    "    x = []\n",
    "    y = []\n",
    "    for t in intervals:\n",
    "        x.append(u * math.sin(theta) * t)\n",
    "        y.append(u * math.sin(theta) * t - 0.5 * g * t * t)\n",
    "    draw_graph(x, y)\n",
    "    \n",
    "try:\n",
    "    u = float(input('Enter the inital velocity (m/s): '))\n",
    "    theta = float(input('Enter the angle of projection (degrees): '))\n",
    "except ValueError:\n",
    "    print('You entered an invalid input')\n",
    "else:\n",
    "    draw_trajectory(u, theta)\n",
    "    plt.show()"
   ]
  },
  {
   "cell_type": "code",
   "execution_count": null,
   "metadata": {},
   "outputs": [],
   "source": []
  }
 ],
 "metadata": {
  "kernelspec": {
   "display_name": "Python 3",
   "language": "python",
   "name": "python3"
  },
  "language_info": {
   "codemirror_mode": {
    "name": "ipython",
    "version": 3
   },
   "file_extension": ".py",
   "mimetype": "text/x-python",
   "name": "python",
   "nbconvert_exporter": "python",
   "pygments_lexer": "ipython3",
   "version": "3.7.7"
  }
 },
 "nbformat": 4,
 "nbformat_minor": 4
}
