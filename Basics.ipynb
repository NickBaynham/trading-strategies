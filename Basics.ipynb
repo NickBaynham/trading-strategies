{
 "cells": [
  {
   "cell_type": "code",
   "execution_count": 4,
   "metadata": {},
   "outputs": [
    {
     "name": "stdout",
     "output_type": "stream",
     "text": [
      "Metron Financial\n",
      "METRON FINANCIAL\n"
     ]
    }
   ],
   "source": [
    "# hello world\n",
    "companyName = \"metron financial\"\n",
    "print(companyName.title())\n",
    "print(companyName.upper())"
   ]
  },
  {
   "cell_type": "code",
   "execution_count": 11,
   "metadata": {},
   "outputs": [
    {
     "name": "stdout",
     "output_type": "stream",
     "text": [
      "Hello Scott Steele of Metron Financial!\n"
     ]
    }
   ],
   "source": [
    "# variables\n",
    "firstName = \"Scott\"\n",
    "lastName = \"Steele\"\n",
    "fullName = f\"{firstName} {lastName}\"\n",
    "print(f\"Hello {fullName} of {companyName.title()}!\")"
   ]
  },
  {
   "cell_type": "code",
   "execution_count": 28,
   "metadata": {},
   "outputs": [
    {
     "name": "stdout",
     "output_type": "stream",
     "text": [
      "['trek', 'canondale', 'schwinn', 'redline', 'specialized']\n",
      "Canondale\n",
      "SPECIALIZED\n",
      "My first bike was a Trek\n",
      "['Harley-Davidson', 'Honda', 'Suzuki', 'Triumph', 'Yamaha', 'Kowasaki']\n",
      "['Dukati', 'Honda', 'Suzuki', 'Triumph', 'Yamaha', 'Kowasaki']\n",
      "['Dukati', 'Honda', 'Suzuki', 'Triumph', 'Yamaha', 'Kowasaki', 'Harley-Davidson']\n",
      "['BMW', 'Dukati', 'Honda', 'Suzuki', 'Triumph', 'Yamaha', 'Kowasaki', 'Harley-Davidson']\n",
      "['BMW', 'Dukati', 'Suzuki', 'Triumph', 'Yamaha', 'Kowasaki', 'Harley-Davidson']\n",
      "['BMW', 'Dukati', 'Suzuki', 'Triumph', 'Yamaha', 'Kowasaki']\n",
      "We dont need Harley-Davidson!\n",
      "['BMW', 'Dukati', 'Suzuki', 'Triumph', 'Kowasaki']\n"
     ]
    }
   ],
   "source": [
    "# lists\n",
    "bicycles = ['trek','canondale','schwinn', 'redline','specialized']\n",
    "print(bicycles)\n",
    "print(bicycles[1].title())\n",
    "print(bicycles[-1].upper())\n",
    "print(f\"My first bike was a {bicycles[0].title()}\")\n",
    "motorcycles = ['Harley-Davidson', 'Honda', 'Suzuki', 'Triumph', 'Yamaha', 'Kowasaki']\n",
    "print(motorcycles)\n",
    "motorcycles[0] = 'Dukati'\n",
    "print(motorcycles)\n",
    "motorcycles.append('Harley-Davidson')\n",
    "print(motorcycles)\n",
    "motorcycles.insert(0, 'BMW')\n",
    "print(motorcycles)\n",
    "del motorcycles[2]\n",
    "print(motorcycles)\n",
    "popped = motorcycles.pop()\n",
    "print(motorcycles)\n",
    "print(f\"We dont need {popped}!\")\n",
    "motorcycles.remove('Yamaha')\n",
    "print(motorcycles)"
   ]
  },
  {
   "cell_type": "code",
   "execution_count": 34,
   "metadata": {},
   "outputs": [
    {
     "name": "stdout",
     "output_type": "stream",
     "text": [
      "Larry is going to Zodiac\n",
      "Dan is going to Zodiac\n",
      "Scott is going to Zodiac\n",
      "Jason is going to Zodiac\n",
      "Leslie is going to Zodiac\n",
      "Kitten is going to Zodiac\n",
      "Raven is going to Zodiac\n",
      "The Gothfather is going to Zodiac\n"
     ]
    }
   ],
   "source": [
    "# Using Loops\n",
    "goths=['larry', 'dan', 'scott', 'jason', 'leslie', 'kitten', 'raven']\n",
    "goths.append('the gothfather')\n",
    "for goth in goths:\n",
    "                 print(f\"{goth.title()} is going to Zodiac\")"
   ]
  },
  {
   "cell_type": "code",
   "execution_count": 42,
   "metadata": {},
   "outputs": [
    {
     "name": "stdout",
     "output_type": "stream",
     "text": [
      "BMW\n",
      "Honda\n",
      "Ford\n",
      "Dodge\n",
      "Hold the Anchovies!\n",
      "Sure, BMW is in the list bud!\n",
      "Sorry bud, no Chrysler's are available.\n"
     ]
    }
   ],
   "source": [
    "# conditionals\n",
    "cars = []\n",
    "cars.append('bmw')\n",
    "cars.append('honda')\n",
    "cars.append('ford')\n",
    "cars.append('dodge')\n",
    "for car in cars:\n",
    "    if car is 'bmw':\n",
    "        print(car.upper())\n",
    "    else:\n",
    "        print(car.title())\n",
    "topping = 'mushrooms'\n",
    "if topping is not 'anchovies':\n",
    "    print('Hold the Anchovies!')\n",
    "if 'bmw' in cars:\n",
    "    print(\"Sure, BMW is in the list bud!\")\n",
    "if 'chrysler' not in cars:\n",
    "    print(\"Sorry bud, no Chrysler's are available.\")"
   ]
  },
  {
   "cell_type": "code",
   "execution_count": 47,
   "metadata": {},
   "outputs": [
    {
     "name": "stdout",
     "output_type": "stream",
     "text": [
      "Scott has 25 points. Way to go Scott!\n",
      "Dan has only 5. Catch up Dan!\n",
      "{'points': 5, 'id': 2, 'name': 'Dan'}\n",
      "{'points': 25, 'id': 1, 'name': 'Scott'}\n"
     ]
    }
   ],
   "source": [
    "# Dictionaries\n",
    "scott = {'points': 25, 'id': 1}\n",
    "dan = {'points': 5, 'id': 2}\n",
    "print(f\"Scott has {scott['points']} points. Way to go Scott!\")\n",
    "print(f\"Dan has only {dan['points']}. Catch up Dan!\")\n",
    "dan['name'] = 'Dan'\n",
    "scott['name'] = 'Scott'\n",
    "print(dan)\n",
    "print(scott)"
   ]
  },
  {
   "cell_type": "code",
   "execution_count": 59,
   "metadata": {},
   "outputs": [
    {
     "name": "stdout",
     "output_type": "stream",
     "text": [
      "['Date,NDX\\n', '1985-09-25,111.175\\n', '1985-09-26,110.64\\n', '1985-09-27,110.64\\n', '1985-09-30,110.62\\n', '1985-10-01,112.14\\n', '1985-10-02,110.84\\n', '1985-10-03,110.87\\n', '1985-10-04,110.075\\n', '1985-10-07,108.2\\n']...\n",
      "8285\n"
     ]
    }
   ],
   "source": [
    "# Files\n",
    "with open('ndx.csv') as file_object:\n",
    "    lines = file_object.readlines()\n",
    "print(f\"{lines[:10]}\")\n",
    "print(len(lines))\n"
   ]
  },
  {
   "cell_type": "code",
   "execution_count": null,
   "metadata": {},
   "outputs": [],
   "source": []
  },
  {
   "cell_type": "code",
   "execution_count": null,
   "metadata": {},
   "outputs": [],
   "source": []
  },
  {
   "cell_type": "code",
   "execution_count": null,
   "metadata": {},
   "outputs": [],
   "source": []
  }
 ],
 "metadata": {
  "kernelspec": {
   "display_name": "Python 3",
   "language": "python",
   "name": "python3"
  },
  "language_info": {
   "codemirror_mode": {
    "name": "ipython",
    "version": 3
   },
   "file_extension": ".py",
   "mimetype": "text/x-python",
   "name": "python",
   "nbconvert_exporter": "python",
   "pygments_lexer": "ipython3",
   "version": "3.7.6"
  }
 },
 "nbformat": 4,
 "nbformat_minor": 4
}
